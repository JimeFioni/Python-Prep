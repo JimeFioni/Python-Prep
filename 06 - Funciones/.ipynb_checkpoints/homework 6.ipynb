{
 "cells": [
  {
   "attachments": {},
   "cell_type": "markdown",
   "metadata": {},
   "source": [
    "HOMEWORK 6 FUNCIONES"
   ]
  },
  {
   "attachments": {},
   "cell_type": "markdown",
   "metadata": {},
   "source": [
    "1) Crear una función que reciba un número como parámetro y devuelva si True si es primo y False si no lo es"
   ]
  },
  {
   "cell_type": "code",
   "execution_count": 20,
   "metadata": {},
   "outputs": [],
   "source": [
    "def numeroPrimo(numero):\n",
    "    primo=True\n",
    "    for div in range(2,numero):\n",
    "        if(numero%div == 0):\n",
    "            primo = False\n",
    "            break\n",
    "    return primo"
   ]
  },
  {
   "cell_type": "code",
   "execution_count": 21,
   "metadata": {},
   "outputs": [
    {
     "data": {
      "text/plain": [
       "True"
      ]
     },
     "execution_count": 21,
     "metadata": {},
     "output_type": "execute_result"
    }
   ],
   "source": [
    "numeroPrimo(13)"
   ]
  },
  {
   "attachments": {},
   "cell_type": "markdown",
   "metadata": {},
   "source": [
    "2) Utilizando la función del punto 1, realizar otra función que reciba de parámetro una lista de números y devuelva sólo aquellos que son primos en otra lista"
   ]
  },
  {
   "cell_type": "code",
   "execution_count": 17,
   "metadata": {},
   "outputs": [],
   "source": [
    "def listaPrimo(lista):\n",
    "    lista_0=[]\n",
    "    for e in lista:\n",
    "        if numeroPrimo==(int(e)):\n",
    "            lista_0.append(e)\n",
    "    return lista_0"
   ]
  },
  {
   "cell_type": "code",
   "execution_count": 18,
   "metadata": {},
   "outputs": [],
   "source": [
    "lista_completa=[1,2,3,4,5,6,7,8,9,10,11,12,13,14,15,16,17,18,19,20]\n",
    "lis_primos=listaPrimo(lista_completa)"
   ]
  },
  {
   "cell_type": "code",
   "execution_count": 19,
   "metadata": {},
   "outputs": [
    {
     "data": {
      "text/plain": [
       "[]"
      ]
     },
     "execution_count": 19,
     "metadata": {},
     "output_type": "execute_result"
    }
   ],
   "source": [
    "lis_primos"
   ]
  },
  {
   "attachments": {},
   "cell_type": "markdown",
   "metadata": {},
   "source": [
    "3) Crear una función que al recibir una lista de números, devuelva el que más se repite y cuántas veces lo hace. Si hay más de un \"más repetido\", que devuelva cualquiera"
   ]
  },
  {
   "cell_type": "code",
   "execution_count": 22,
   "metadata": {},
   "outputs": [],
   "source": [
    "def valor_modal(lista):\n",
    "    lista_unicos = []\n",
    "    lista_repeticiones = []\n",
    "    \n",
    "    if len(lista)==0:\n",
    "        return None\n",
    "\n",
    "    for elemento in lista:\n",
    "        if elemento in lista_unicos:\n",
    "            i= lista_unicos.index(elemento)\n",
    "            lista_repeticiones[i] += 1\n",
    "        else:\n",
    "            lista_unicos.append(elemento)\n",
    "            lista_repeticiones.append(1)\n",
    "    moda= lista_unicos[0]\n",
    "    maximo= lista_repeticiones[0]\n",
    "    \n",
    "    for i, elemento in enumerate(lista_unicos):\n",
    "        if lista_repeticiones[i]> maximo:\n",
    "            moda = lista_unicos[i]\n",
    "            maximo = lista_repeticiones[i]\n",
    "    return moda, maximo"
   ]
  },
  {
   "cell_type": "code",
   "execution_count": 23,
   "metadata": {},
   "outputs": [
    {
     "name": "stdout",
     "output_type": "stream",
     "text": [
      "El valod modal es  5 y se repite  3 veces\n"
     ]
    }
   ],
   "source": [
    "lis = [1,1,5,6,8,10,22,5,6,4,11,9,5]\n",
    "moda, repite= valor_modal(lis)\n",
    "print(\"El valod modal es \", moda, \"y se repite \", repite, \"veces\")"
   ]
  },
  {
   "attachments": {},
   "cell_type": "markdown",
   "metadata": {},
   "source": [
    "4) A la función del punto 3, agregar un parámetro más, que permita elegir si se requiere el menor o el mayor de los mas repetidos."
   ]
  },
  {
   "cell_type": "code",
   "execution_count": 26,
   "metadata": {},
   "outputs": [],
   "source": [
    "def valor_modal (lista ,menor):\n",
    "    \"\"\"\n",
    "    Esta funcion devuelve el valor modal y recibe de parametros dos valores:\n",
    "    1-Una lista de numeros\n",
    "    2-Verdadero (por defecto) por si se requiere el minimo de los mas repetidos, o Falso si se requiere el maximo\n",
    "    \"\"\"\n",
    "    lista_unicos = []\n",
    "    lista_repeticiones = []\n",
    "    \n",
    "    if len(lista)==0:\n",
    "        return None\n",
    "    if(menor):\n",
    "        lista.sort()\n",
    "    else:\n",
    "        lista.sort(reverse=True)\n",
    "    \n",
    "    for elemento in lista:\n",
    "        if elemento in lista_unicos:\n",
    "            i= lista_unicos.index(elemento)\n",
    "            lista_repeticiones[i] += 1\n",
    "        else:\n",
    "            lista_unicos.append(elemento)\n",
    "            lista_repeticiones.append(1)\n",
    "    moda= lista_unicos[0]\n",
    "    maximo= lista_repeticiones[0]\n",
    "    \n",
    "    for i, elemento in enumerate(lista_unicos):\n",
    "        if lista_repeticiones[i]> maximo:\n",
    "            moda = lista_unicos[i]\n",
    "            maximo = lista_repeticiones[i]\n",
    "    return moda, maximo"
   ]
  },
  {
   "cell_type": "code",
   "execution_count": 29,
   "metadata": {},
   "outputs": [
    {
     "name": "stdout",
     "output_type": "stream",
     "text": [
      "El valod modal es  5 y se repite  3 veces\n"
     ]
    }
   ],
   "source": [
    "lis = [1,1,5,6,8,10,22,5,6,4,11,9,5]\n",
    "moda, repite= valor_modal(lis,menor = True)\n",
    "print(\"El valod modal es \", moda, \"y se repite \", repite, \"veces\")"
   ]
  },
  {
   "attachments": {},
   "cell_type": "markdown",
   "metadata": {},
   "source": [
    "5) Crear una función que convierta entre grados Celsius, Farenheit y Kelvin<br>\n",
    "Fórmula 1\t: (°C × 9/5) + 32 = °F<br>\n",
    "Fórmula 2\t: °C + 273.15 = °K<br>\n",
    "Debe recibir 3 parámetros: el valor, la medida de orígen y la medida de destino"
   ]
  },
  {
   "cell_type": "code",
   "execution_count": 1,
   "metadata": {},
   "outputs": [],
   "source": [
    "def conversion_grados(valor, origen, destino):\n",
    "    if(origen == \"celsius\"):\n",
    "        if(destino == \"celsius\"):\n",
    "            valor_destino = valor\n",
    "        elif(destino == \"farenheit\"):\n",
    "            valor_destino = (valor * 9 / 5) + 32\n",
    "        elif (destino == \"kelvin\"):\n",
    "            valor_destino = {valor + 273,15}\n",
    "        else:\n",
    "            print (\"parametro de destino incorrecto\")\n",
    "    \n",
    "    elif(origen == \"farenheit\"):\n",
    "        if (destino == \"celsius\"):\n",
    "            valor_destino = (valor - 32) * 5 / 9\n",
    "        elif(destino == \"farenheit\"):\n",
    "            valor_destino = valor\n",
    "        elif(destino == \"kelvin\"):\n",
    "            valor_destino = ((valor - 32) * 5 / 9) + 273.15\n",
    "        else:\n",
    "            print(\"parametro de destino incorrecto\")\n",
    "    \n",
    "    elif(origen == \"kelvin\"):\n",
    "        if(destino == \"celsius\"):\n",
    "            valor_destino =  valor - 273.15\n",
    "        elif(destino == \"farenheit\"):\n",
    "            valor_destino = ((valor - 273.15) * 9 / 5) + 32\n",
    "        elif(destino == \"kelvin\"):\n",
    "            valor_destino = valor\n",
    "        else:\n",
    "            print(\"parametro de destino incorrecto\")\n",
    "    else: \n",
    "        print (\"paramentro de origen incorrrecto\")\n",
    "    return valor_destino"
   ]
  },
  {
   "attachments": {},
   "cell_type": "markdown",
   "metadata": {},
   "source": [
    "6) Iterando una lista con los tres valores posibles de temperatura que recibe la función del punto 5, hacer un print para cada combinación de los mismos:"
   ]
  },
  {
   "cell_type": "code",
   "execution_count": 2,
   "metadata": {},
   "outputs": [
    {
     "name": "stdout",
     "output_type": "stream",
     "text": [
      "1 grado en celsius  es en celsius : 1\n",
      "1 grado en celsius  es en farenheit : 33.8\n",
      "1 grado en celsius  es en kelvin : {274, 15}\n",
      "1 grado en farenheit  es en celsius : -17.22222222222222\n",
      "1 grado en farenheit  es en farenheit : 1\n",
      "1 grado en farenheit  es en kelvin : 255.92777777777775\n",
      "1 grado en kelvin  es en celsius : -272.15\n",
      "1 grado en kelvin  es en farenheit : -457.87\n",
      "1 grado en kelvin  es en kelvin : 1\n"
     ]
    }
   ],
   "source": [
    "tipos =[\"celsius\", \"farenheit\", \"kelvin\"]\n",
    "\n",
    "for i in range (0, 3):\n",
    "    for j in range (0, 3):\n",
    "        print(\"1 grado en\", tipos[i], \" es en\", tipos[j], \":\", conversion_grados(1, tipos[i], tipos[j]))"
   ]
  },
  {
   "attachments": {},
   "cell_type": "markdown",
   "metadata": {},
   "source": [
    "7) Armar una función que devuelva el factorial de un número. Tener en cuenta que el usuario puede equivocarse y enviar de parámetro un número no entero o negativo"
   ]
  },
  {
   "cell_type": "code",
   "execution_count": null,
   "metadata": {},
   "outputs": [],
   "source": []
  }
 ],
 "metadata": {
  "kernelspec": {
   "display_name": "Python 3",
   "language": "python",
   "name": "python3"
  },
  "language_info": {
   "codemirror_mode": {
    "name": "ipython",
    "version": 3
   },
   "file_extension": ".py",
   "mimetype": "text/x-python",
   "name": "python",
   "nbconvert_exporter": "python",
   "pygments_lexer": "ipython3",
   "version": "3.11.2"
  },
  "orig_nbformat": 4
 },
 "nbformat": 4,
 "nbformat_minor": 2
}
