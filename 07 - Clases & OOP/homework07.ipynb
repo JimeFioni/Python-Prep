{
 "cells": [
  {
   "attachments": {},
   "cell_type": "markdown",
   "metadata": {},
   "source": [
    "## Clases y Programación Orientada a Objetos"
   ]
  },
  {
   "attachments": {},
   "cell_type": "markdown",
   "metadata": {},
   "source": [
    "1) Crear la clase vehículo que contenga los atributos:<br>\n",
    "Color<br>\n",
    "Si es moto, auto, camioneta ó camión<br>\n",
    "Cilindrada del motor\n"
   ]
  },
  {
   "cell_type": "code",
   "execution_count": 1,
   "metadata": {},
   "outputs": [],
   "source": [
    "class Vehiculo:\n",
    "    def __init__(self,color,tipo,cilindrada):\n",
    "        self.color = color\n",
    "        self.tipo = tipo\n",
    "        self.cilindrada = cilindrada"
   ]
  },
  {
   "attachments": {},
   "cell_type": "markdown",
   "metadata": {},
   "source": [
    "2) A la clase Vehiculo creada en el punto 1, agregar los siguientes métodos:<br>\n",
    "Acelerar<br>\n",
    "Frenar<br>\n",
    "Doblar<br>"
   ]
  },
  {
   "cell_type": "code",
   "execution_count": 13,
   "metadata": {},
   "outputs": [],
   "source": [
    "class Vehiculo:\n",
    "    def __init__(self,color,tipo,cilindrada):\n",
    "        self.color = color\n",
    "        self.tipo = tipo\n",
    "        self.cilindrada = cilindrada\n",
    "        self.velocidad = 0\n",
    "    \n",
    "    def Acelerar(self, velocidad):\n",
    "        self.velocidad += velocidad\n",
    "        print(\"el\",self.tipo,\"color\", self.color, \" esta Acelerando\", self.velocidad)\n",
    "    \n",
    "    def Frenar(self):\n",
    "        print(\"Frenando\")\n",
    "    \n",
    "    def Doblar(self):\n",
    "        print(\"Doblando\")"
   ]
  },
  {
   "attachments": {},
   "cell_type": "markdown",
   "metadata": {},
   "source": [
    "3) Instanciar 3 objetos de la clase vehículo y ejecutar sus métodos, probar luego el resultado"
   ]
  },
  {
   "cell_type": "code",
   "execution_count": 14,
   "metadata": {},
   "outputs": [
    {
     "name": "stdout",
     "output_type": "stream",
     "text": [
      "el moto color rojo  esta Acelerando 30\n"
     ]
    }
   ],
   "source": [
    "v1 = Vehiculo(\"rojo\", \"moto\", 200)\n",
    "v2 = Vehiculo(\"verde\", \"camion\", 1500)\n",
    "v3 = Vehiculo(\"negro\", \"auto\", 2.0)\n",
    "\n",
    "v1.Acelerar(30)"
   ]
  },
  {
   "attachments": {},
   "cell_type": "markdown",
   "metadata": {},
   "source": [
    "4) Agregar a la clase Vehiculo, un método que muestre su estado, es decir, a que velocidad se encuentra y su dirección. Y otro método que muestre color, tipo y cilindrada"
   ]
  },
  {
   "cell_type": "code",
   "execution_count": 17,
   "metadata": {},
   "outputs": [],
   "source": [
    "class Vehiculo:\n",
    "    def __init__(self,color,tipo,cilindrada):\n",
    "        self.color = color\n",
    "        self.tipo = tipo\n",
    "        self.cilindrada = cilindrada\n",
    "        self.velocidad = 0\n",
    "        self.direccion = 0\n",
    "    \n",
    "    def Acelerar(self, velocidad):\n",
    "        self.velocidad += velocidad\n",
    "        print(\"el\",self.tipo,\"color\", self.color, \" esta Acelerando\", self.velocidad)\n",
    "    \n",
    "    def Frenar(self):\n",
    "        print(\"Frenando\")\n",
    "    \n",
    "    def Doblar(self, grados):\n",
    "        self.direccion += grados\n",
    "        print(\"Doblando\")\n",
    "    \n",
    "    def estado(self):\n",
    "        print (\"velocidad\", self.velocidad, \"direccion\", self.direccion)\n",
    "    \n",
    "    def detalle(self):\n",
    "        print (\"soy\", self.tipo, \"de color\", self.color, \"y mi cilindrada es\", self.cilindrada,)"
   ]
  },
  {
   "cell_type": "code",
   "execution_count": 19,
   "metadata": {},
   "outputs": [
    {
     "name": "stdout",
     "output_type": "stream",
     "text": [
      "el moto color rojo  esta Acelerando 30\n",
      "Doblando\n",
      "velocidad 30 direccion 45\n",
      "soy moto de color rojo y mi cilindrada es 200\n"
     ]
    }
   ],
   "source": [
    "v1 = Vehiculo(\"rojo\", \"moto\", 200)\n",
    "v2 = Vehiculo(\"verde\", \"camion\", 1500)\n",
    "v3 = Vehiculo(\"negro\", \"auto\", 2.0)\n",
    "\n",
    "v1.Acelerar(30)\n",
    "v1.Doblar(45)\n",
    "v1.estado()\n",
    "v1.detalle()"
   ]
  },
  {
   "attachments": {},
   "cell_type": "markdown",
   "metadata": {},
   "source": [
    "5) Crear una clase que permita utilizar las funciones creadas en la práctica del módulo 6<br>\n",
    "Verificar Primo<br>\n",
    "Valor modal<br>\n",
    "Conversión grados<br>\n",
    "Factorial<br>"
   ]
  },
  {
   "cell_type": "code",
   "execution_count": 15,
   "metadata": {},
   "outputs": [],
   "source": [
    "class herramientas:\n",
    "    def __init__(self) -> None:\n",
    "        pass\n",
    "    \n",
    "    def numeroPrimo(self, numero):\n",
    "        primo=True\n",
    "        for div in range(2,numero):\n",
    "            if(numero%div == 0):\n",
    "                primo = False\n",
    "                break\n",
    "        return primo\n",
    "\n",
    "    def valor_modal(self, lista):\n",
    "        lista_unicos = []\n",
    "        lista_repeticiones = []\n",
    "        \n",
    "        if len(lista)==0:\n",
    "            return None\n",
    "\n",
    "        for elemento in lista:\n",
    "            if elemento in lista_unicos:\n",
    "                i= lista_unicos.index(elemento)\n",
    "                lista_repeticiones[i] += 1\n",
    "            else:\n",
    "                lista_unicos.append(elemento)\n",
    "                lista_repeticiones.append(1)\n",
    "        moda= lista_unicos[0]\n",
    "        maximo= lista_repeticiones[0]\n",
    "        \n",
    "        for i, elemento in enumerate(lista_unicos):\n",
    "            if lista_repeticiones[i]> maximo:\n",
    "                moda = lista_unicos[i]\n",
    "                maximo = lista_repeticiones[i]\n",
    "        return moda, maximo\n",
    "    \n",
    "    def conversion_grados(self,valor, origen, destino):\n",
    "        if(origen == \"celsius\"):\n",
    "            if(destino == \"celsius\"):\n",
    "                valor_destino = valor\n",
    "            elif(destino == \"farenheit\"):\n",
    "                valor_destino = (valor * 9 / 5) + 32\n",
    "            elif (destino == \"kelvin\"):\n",
    "                valor_destino = {valor + 273,15}\n",
    "            else:\n",
    "                print (\"parametro de destino incorrecto\")\n",
    "        \n",
    "        elif(origen == \"farenheit\"):\n",
    "            if (destino == \"celsius\"):\n",
    "                valor_destino = (valor - 32) * 5 / 9\n",
    "            elif(destino == \"farenheit\"):\n",
    "                valor_destino = valor\n",
    "            elif(destino == \"kelvin\"):\n",
    "                valor_destino = ((valor - 32) * 5 / 9) + 273.15\n",
    "            else:\n",
    "                print(\"parametro de destino incorrecto\")\n",
    "        \n",
    "        elif(origen == \"kelvin\"):\n",
    "            if(destino == \"celsius\"):\n",
    "                valor_destino =  valor - 273.15\n",
    "            elif(destino == \"farenheit\"):\n",
    "                valor_destino = ((valor - 273.15) * 9 / 5) + 32\n",
    "            elif(destino == \"kelvin\"):\n",
    "                valor_destino = valor\n",
    "            else:\n",
    "                print(\"parametro de destino incorrecto\")\n",
    "        else: \n",
    "            print (\"paramentro de origen incorrrecto\")\n",
    "        return valor_destino\n",
    "    \n",
    "    def factorial(self, numero):\n",
    "        if(type(numero) != int):\n",
    "            return 'El numero debe ser un entero'\n",
    "        if(numero < 0):\n",
    "            return 'El numero debe ser positivo'\n",
    "        if (numero > 1):\n",
    "            numero = numero * self.factorial(numero - 1)\n",
    "        return numero"
   ]
  },
  {
   "cell_type": "code",
   "execution_count": 16,
   "metadata": {},
   "outputs": [],
   "source": [
    "h= herramientas()"
   ]
  },
  {
   "attachments": {},
   "cell_type": "markdown",
   "metadata": {},
   "source": [
    "6) Probar las funciones incorporadas en la clase del punto 5"
   ]
  },
  {
   "cell_type": "code",
   "execution_count": 17,
   "metadata": {},
   "outputs": [
    {
     "data": {
      "text/plain": [
       "6"
      ]
     },
     "execution_count": 17,
     "metadata": {},
     "output_type": "execute_result"
    }
   ],
   "source": [
    "h.factorial(3)"
   ]
  },
  {
   "cell_type": "code",
   "execution_count": 18,
   "metadata": {},
   "outputs": [
    {
     "data": {
      "text/plain": [
       "-272.15"
      ]
     },
     "execution_count": 18,
     "metadata": {},
     "output_type": "execute_result"
    }
   ],
   "source": [
    "h.conversion_grados(1, \"kelvin\", \"celsius\")"
   ]
  },
  {
   "cell_type": "code",
   "execution_count": 20,
   "metadata": {},
   "outputs": [
    {
     "name": "stdout",
     "output_type": "stream",
     "text": [
      "el valor modal es 8 y se repite 2 veces\n"
     ]
    }
   ],
   "source": [
    "listado=[1,8,2,5,4,8,10,7]\n",
    "moda, repe= h.valor_modal(listado)\n",
    "print(\"el valor modal es\", moda, \"y se repite\",repe, \"veces\")"
   ]
  },
  {
   "attachments": {},
   "cell_type": "markdown",
   "metadata": {},
   "source": [
    "7) Es necesario que la clase creada en el punto 5 contenga una lista, sobre la cual se aplquen las funciones incorporadas"
   ]
  },
  {
   "cell_type": "code",
   "execution_count": 43,
   "metadata": {},
   "outputs": [],
   "source": [
    "class herramientas:\n",
    "    def __init__(self, lista_numeros):\n",
    "        self.lista = lista_numeros\n",
    "    \n",
    "    def numeroPrimo(self):\n",
    "        for i in self.lista:\n",
    "            if(self.__numeroPrimo(i)):\n",
    "                print(\"el elemento\", i , \"Si es un numero primo\")\n",
    "            else:\n",
    "                print(\"el elemento\", i, \"No es un numero primo\")\n",
    "\n",
    "    \n",
    "    def conversion_grados(self,origen, destino):\n",
    "        for i in self.lista:\n",
    "            print(i, \"grados\",origen, \"son\", self.__conversion_grados(i, origen, destino), \"grados\", destino)\n",
    "    \n",
    "    def factorial(self):\n",
    "        for i in self.lista:\n",
    "            print(\"El factorial de\", i, \"es\", self.__factorial(i))\n",
    "    \n",
    "    \n",
    "    \n",
    "    def __numeroPrimo(self, numero):\n",
    "        primo=True\n",
    "        for div in range(2,numero):\n",
    "            if(numero%div == 0):\n",
    "                primo = False\n",
    "                break\n",
    "        return primo\n",
    "\n",
    "    def valor_modal(self, lista):\n",
    "        lista_unicos = []\n",
    "        lista_repeticiones = []\n",
    "        \n",
    "        if len(self.lista)==0:\n",
    "            return None\n",
    "\n",
    "        for elemento in self.lista:\n",
    "            if elemento in lista_unicos:\n",
    "                i= lista_unicos.index(elemento)\n",
    "                lista_repeticiones[i] += 1\n",
    "            else:\n",
    "                lista_unicos.append(elemento)\n",
    "                lista_repeticiones.append(1)\n",
    "        moda= lista_unicos[0]\n",
    "        maximo= lista_repeticiones[0]\n",
    "        \n",
    "        for i, elemento in enumerate(lista_unicos):\n",
    "            if lista_repeticiones[i]> maximo:\n",
    "                moda = lista_unicos[i]\n",
    "                maximo = lista_repeticiones[i]\n",
    "        return moda, maximo\n",
    "    \n",
    "    def __conversion_grados(self,valor, origen, destino):\n",
    "        if(origen == \"celsius\"):\n",
    "            if(destino == \"celsius\"):\n",
    "                valor_destino = valor\n",
    "            elif(destino == \"farenheit\"):\n",
    "                valor_destino = (valor * 9 / 5) + 32\n",
    "            elif (destino == \"kelvin\"):\n",
    "                valor_destino = {valor + 273,15}\n",
    "            else:\n",
    "                print (\"parametro de destino incorrecto\")\n",
    "        \n",
    "        elif(origen == \"farenheit\"):\n",
    "            if (destino == \"celsius\"):\n",
    "                valor_destino = (valor - 32) * 5 / 9\n",
    "            elif(destino == \"farenheit\"):\n",
    "                valor_destino = valor\n",
    "            elif(destino == \"kelvin\"):\n",
    "                valor_destino = ((valor - 32) * 5 / 9) + 273.15\n",
    "            else:\n",
    "                print(\"parametro de destino incorrecto\")\n",
    "        \n",
    "        elif(origen == \"kelvin\"):\n",
    "            if(destino == \"celsius\"):\n",
    "                valor_destino =  valor - 273.15\n",
    "            elif(destino == \"farenheit\"):\n",
    "                valor_destino = ((valor - 273.15) * 9 / 5) + 32\n",
    "            elif(destino == \"kelvin\"):\n",
    "                valor_destino = valor\n",
    "            else:\n",
    "                print(\"parametro de destino incorrecto\")\n",
    "        else: \n",
    "            print (\"paramentro de origen incorrrecto\")\n",
    "        return valor_destino\n",
    "    \n",
    "    def __factorial(self, numero):\n",
    "        if(type(numero) != int):\n",
    "            return 'El numero debe ser un entero'\n",
    "        if(numero < 0):\n",
    "            return 'El numero debe ser positivo'\n",
    "        if (numero > 1):\n",
    "            numero = numero * self.__factorial(numero - 1)\n",
    "        return numero\n"
   ]
  },
  {
   "cell_type": "code",
   "execution_count": 44,
   "metadata": {},
   "outputs": [],
   "source": [
    "h = herramientas({1,1,2,5,8,8,9,11,15,16,16,16,18,20})"
   ]
  },
  {
   "cell_type": "code",
   "execution_count": 45,
   "metadata": {},
   "outputs": [
    {
     "name": "stdout",
     "output_type": "stream",
     "text": [
      "1 grados celsius son 33.8 grados farenheit\n",
      "2 grados celsius son 35.6 grados farenheit\n",
      "5 grados celsius son 41.0 grados farenheit\n",
      "8 grados celsius son 46.4 grados farenheit\n",
      "9 grados celsius son 48.2 grados farenheit\n",
      "11 grados celsius son 51.8 grados farenheit\n",
      "15 grados celsius son 59.0 grados farenheit\n",
      "16 grados celsius son 60.8 grados farenheit\n",
      "18 grados celsius son 64.4 grados farenheit\n",
      "20 grados celsius son 68.0 grados farenheit\n"
     ]
    }
   ],
   "source": [
    "h.conversion_grados(\"celsius\", \"farenheit\")"
   ]
  },
  {
   "cell_type": "code",
   "execution_count": 46,
   "metadata": {},
   "outputs": [
    {
     "name": "stdout",
     "output_type": "stream",
     "text": [
      "el elemento 1 Si es un numero primo\n",
      "el elemento 2 Si es un numero primo\n",
      "el elemento 5 Si es un numero primo\n",
      "el elemento 8 No es un numero primo\n",
      "el elemento 9 No es un numero primo\n",
      "el elemento 11 Si es un numero primo\n",
      "el elemento 15 No es un numero primo\n",
      "el elemento 16 No es un numero primo\n",
      "el elemento 18 No es un numero primo\n",
      "el elemento 20 No es un numero primo\n"
     ]
    }
   ],
   "source": [
    "h.numeroPrimo()"
   ]
  },
  {
   "cell_type": "code",
   "execution_count": 47,
   "metadata": {},
   "outputs": [
    {
     "ename": "TypeError",
     "evalue": "herramientas.valor_modal() missing 1 required positional argument: 'lista'",
     "output_type": "error",
     "traceback": [
      "\u001b[1;31m---------------------------------------------------------------------------\u001b[0m",
      "\u001b[1;31mTypeError\u001b[0m                                 Traceback (most recent call last)",
      "Cell \u001b[1;32mIn[47], line 1\u001b[0m\n\u001b[1;32m----> 1\u001b[0m moda, repe \u001b[39m=\u001b[39m h\u001b[39m.\u001b[39;49mvalor_modal()\n\u001b[0;32m      2\u001b[0m \u001b[39mprint\u001b[39m(\u001b[39m\"\u001b[39m\u001b[39mel valor modal es\u001b[39m\u001b[39m\"\u001b[39m, moda, \u001b[39m\"\u001b[39m\u001b[39my se repite\u001b[39m\u001b[39m\"\u001b[39m, repe, \u001b[39m\"\u001b[39m\u001b[39mveces\u001b[39m\u001b[39m\"\u001b[39m)\n",
      "\u001b[1;31mTypeError\u001b[0m: herramientas.valor_modal() missing 1 required positional argument: 'lista'"
     ]
    }
   ],
   "source": [
    "moda, repe = h.valor_modal()\n",
    "print(\"el valor modal es\", moda, \"y se repite\", repe, \"veces\")"
   ]
  },
  {
   "cell_type": "code",
   "execution_count": 40,
   "metadata": {},
   "outputs": [
    {
     "name": "stdout",
     "output_type": "stream",
     "text": [
      "El factorial de 1 es 1\n",
      "El factorial de 2 es 2\n",
      "El factorial de 5 es 120\n",
      "El factorial de 8 es 40320\n",
      "El factorial de 9 es 362880\n",
      "El factorial de 11 es 39916800\n",
      "El factorial de 15 es 1307674368000\n",
      "El factorial de 16 es 20922789888000\n",
      "El factorial de 18 es 6402373705728000\n",
      "El factorial de 20 es 2432902008176640000\n"
     ]
    }
   ],
   "source": [
    "h.factorial()"
   ]
  },
  {
   "attachments": {},
   "cell_type": "markdown",
   "metadata": {},
   "source": [
    "8) Crear un archivo .py aparte y ubicar allí la clase generada en el punto anterior. Luego realizar la importación del módulo y probar alguna de sus funciones\n"
   ]
  },
  {
   "cell_type": "code",
   "execution_count": 48,
   "metadata": {},
   "outputs": [],
   "source": [
    "from herramientas import *"
   ]
  },
  {
   "cell_type": "code",
   "execution_count": 49,
   "metadata": {},
   "outputs": [],
   "source": [
    "h2= herramientas([1,1,2,3,5,6,8,8])"
   ]
  },
  {
   "cell_type": "code",
   "execution_count": 50,
   "metadata": {},
   "outputs": [
    {
     "name": "stdout",
     "output_type": "stream",
     "text": [
      "el elemento 1 Si es un numero primo\n",
      "el elemento 1 Si es un numero primo\n",
      "el elemento 2 Si es un numero primo\n",
      "el elemento 3 Si es un numero primo\n",
      "el elemento 5 Si es un numero primo\n",
      "el elemento 6 No es un numero primo\n",
      "el elemento 8 No es un numero primo\n",
      "el elemento 8 No es un numero primo\n"
     ]
    }
   ],
   "source": [
    "h2.numeroPrimo()"
   ]
  }
 ],
 "metadata": {
  "kernelspec": {
   "display_name": "Python 3",
   "language": "python",
   "name": "python3"
  },
  "language_info": {
   "codemirror_mode": {
    "name": "ipython",
    "version": 3
   },
   "file_extension": ".py",
   "mimetype": "text/x-python",
   "name": "python",
   "nbconvert_exporter": "python",
   "pygments_lexer": "ipython3",
   "version": "3.11.2"
  },
  "orig_nbformat": 4
 },
 "nbformat": 4,
 "nbformat_minor": 2
}
