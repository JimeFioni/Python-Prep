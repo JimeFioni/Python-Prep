{
 "cells": [
  {
   "attachments": {},
   "cell_type": "markdown",
   "metadata": {},
   "source": [
    "Flujos de Control Tarea"
   ]
  },
  {
   "attachments": {},
   "cell_type": "markdown",
   "metadata": {},
   "source": [
    "1) Crear una variable que contenga un elemento del conjunto de números enteros y luego imprimir por pantalla si es mayor o menor a cero"
   ]
  },
  {
   "cell_type": "code",
   "execution_count": 32,
   "metadata": {},
   "outputs": [
    {
     "name": "stdout",
     "output_type": "stream",
     "text": [
      "a es mayor que cero\n"
     ]
    }
   ],
   "source": [
    "a=3\n",
    "if a < 0:\n",
    "    print('a es menor que cero')\n",
    "elif a==0:\n",
    "    print('a es igual a cero')\n",
    "else:\n",
    "    print('a es mayor que cero')"
   ]
  },
  {
   "attachments": {},
   "cell_type": "markdown",
   "metadata": {},
   "source": [
    "2) Crear dos variables y un condicional que informe si son del mismo tipo de dato"
   ]
  },
  {
   "cell_type": "code",
   "execution_count": 8,
   "metadata": {},
   "outputs": [
    {
     "name": "stdout",
     "output_type": "stream",
     "text": [
      "los datos son de diferente tipo\n"
     ]
    }
   ],
   "source": [
    "b='dato'\n",
    "c= 5\n",
    "if (type(b))==(type(c)):\n",
    "    print('las variables son del mismo tipo')\n",
    "elif(type(b))!= (type(c)):\n",
    "    print ('los datos son de diferente tipo')"
   ]
  },
  {
   "attachments": {},
   "cell_type": "markdown",
   "metadata": {},
   "source": [
    "\n",
    "3) Para los valores enteros del 1 al 20, imprimir por pantalla si es par o impar"
   ]
  },
  {
   "cell_type": "code",
   "execution_count": 35,
   "metadata": {},
   "outputs": [
    {
     "name": "stdout",
     "output_type": "stream",
     "text": [
      "el numero 1 es impar\n",
      "el numero 2 es par\n",
      "el numero 3 es impar\n",
      "el numero 4 es par\n",
      "el numero 5 es impar\n",
      "el numero 6 es par\n",
      "el numero 7 es impar\n",
      "el numero 8 es par\n",
      "el numero 9 es impar\n",
      "el numero 10 es par\n",
      "el numero 11 es impar\n",
      "el numero 12 es par\n",
      "el numero 13 es impar\n",
      "el numero 14 es par\n",
      "el numero 15 es impar\n",
      "el numero 16 es par\n",
      "el numero 17 es impar\n",
      "el numero 18 es par\n",
      "el numero 19 es impar\n",
      "el numero 20 es par\n"
     ]
    }
   ],
   "source": [
    "l=1\n",
    "while(l<=20):\n",
    "    if (l%2==0):\n",
    "        print('el numero', l , 'es par')\n",
    "    else:\n",
    "        print('el numero', l , 'es impar')\n",
    "    l=l+1"
   ]
  },
  {
   "cell_type": "code",
   "execution_count": 33,
   "metadata": {},
   "outputs": [
    {
     "name": "stdout",
     "output_type": "stream",
     "text": [
      "el numero 1  es impar\n",
      "el numero 2  es par\n",
      "el numero 3  es impar\n",
      "el numero 4  es par\n",
      "el numero 5  es impar\n",
      "el numero 6  es par\n",
      "el numero 7  es impar\n",
      "el numero 8  es par\n",
      "el numero 9  es impar\n",
      "el numero 10  es par\n",
      "el numero 11  es impar\n",
      "el numero 12  es par\n",
      "el numero 13  es impar\n",
      "el numero 14  es par\n",
      "el numero 15  es impar\n",
      "el numero 16  es par\n",
      "el numero 17  es impar\n",
      "el numero 18  es par\n",
      "el numero 19  es impar\n",
      "el numero 20  es par\n"
     ]
    }
   ],
   "source": [
    "for n in range(1,21):\n",
    "    if (n%2== 0):\n",
    "        print('el numero', n, ' es par')\n",
    "    else:\n",
    "        print('el numero', n, ' es impar')\n",
    "n= n+1"
   ]
  },
  {
   "attachments": {},
   "cell_type": "markdown",
   "metadata": {},
   "source": [
    "4) En un ciclo for mostrar para los valores entre 0 y 5 el resultado de elevarlo a la potencia igual a 3"
   ]
  },
  {
   "cell_type": "code",
   "execution_count": 29,
   "metadata": {},
   "outputs": [
    {
     "name": "stdout",
     "output_type": "stream",
     "text": [
      "0\n",
      "1\n",
      "8\n",
      "27\n",
      "64\n",
      "125\n"
     ]
    }
   ],
   "source": [
    "for n in range(0,6):\n",
    "    print(n**3)\n",
    "n= n+1"
   ]
  },
  {
   "attachments": {},
   "cell_type": "markdown",
   "metadata": {},
   "source": [
    "\n",
    "5) Crear una variable que contenga un número entero y realizar un ciclo for la misma cantidad de ciclos"
   ]
  },
  {
   "cell_type": "code",
   "execution_count": 16,
   "metadata": {},
   "outputs": [
    {
     "name": "stdout",
     "output_type": "stream",
     "text": [
      "0\n",
      "1\n",
      "2\n",
      "3\n"
     ]
    }
   ],
   "source": [
    "var=4\n",
    "for n in range (0,var):\n",
    "    print(n)"
   ]
  },
  {
   "attachments": {},
   "cell_type": "markdown",
   "metadata": {},
   "source": [
    "6) Utilizar un ciclo while para realizar el factorial de un número guardado en una variable, sólo si la variable contiene un número entero mayor a 0"
   ]
  },
  {
   "cell_type": "code",
   "execution_count": 31,
   "metadata": {},
   "outputs": [
    {
     "name": "stdout",
     "output_type": "stream",
     "text": [
      "El factorial de  2 es 6\n"
     ]
    }
   ],
   "source": [
    "num=3\n",
    "if(type(num)==int):\n",
    "    if(num>0):\n",
    "        factorial=num \n",
    "        while(num>2):\n",
    "            num = num-1\n",
    "            factorial=factorial*num\n",
    "        print('El factorial de ',num,'es',factorial,)\n",
    "    else:\n",
    "        print('la variable no es mayor a cero')\n",
    "else:\n",
    "    print('la variable no es un numero entero')"
   ]
  },
  {
   "attachments": {},
   "cell_type": "markdown",
   "metadata": {},
   "source": [
    "7) Crear un ciclo for dentro de un ciclo while"
   ]
  },
  {
   "cell_type": "code",
   "execution_count": 36,
   "metadata": {},
   "outputs": [
    {
     "name": "stdout",
     "output_type": "stream",
     "text": [
      "spy la iteracion de  4\n",
      "soy la j de for 1\n",
      "soy la j de for 2\n",
      "soy la j de for 3\n",
      "spy la iteracion de  3\n",
      "soy la j de for 1\n",
      "soy la j de for 2\n",
      "soy la j de for 3\n",
      "spy la iteracion de  2\n",
      "soy la j de for 1\n",
      "soy la j de for 2\n",
      "soy la j de for 3\n",
      "spy la iteracion de  1\n",
      "soy la j de for 1\n",
      "soy la j de for 2\n",
      "soy la j de for 3\n"
     ]
    }
   ],
   "source": [
    "d=4\n",
    "while(d>0):\n",
    "    print('spy la iteracion de ',d)\n",
    "    for j in range(1,4):\n",
    "        print('soy la j de for', j)\n",
    "    d=d-1"
   ]
  },
  {
   "attachments": {},
   "cell_type": "markdown",
   "metadata": {},
   "source": [
    "\n",
    "8) Crear un ciclo while dentro de un ciclo for"
   ]
  },
  {
   "cell_type": "code",
   "execution_count": 43,
   "metadata": {},
   "outputs": [
    {
     "name": "stdout",
     "output_type": "stream",
     "text": [
      "soy la iteracion de for 1\n",
      "soy la iteracion while de 8\n",
      "soy la iteracion de for 2\n",
      "soy la iteracion de for 3\n"
     ]
    }
   ],
   "source": [
    "j=8\n",
    "for i in range(1,4):\n",
    "    print('soy la iteracion de for', i)\n",
    "    while(j>5):\n",
    "        print('soy la iteracion while de',j)\n",
    "        j=-1\n",
    "        "
   ]
  },
  {
   "attachments": {},
   "cell_type": "markdown",
   "metadata": {},
   "source": [
    "9) Imprimir los números primos existentes entre 0 y 30"
   ]
  },
  {
   "cell_type": "code",
   "execution_count": 44,
   "metadata": {},
   "outputs": [
    {
     "name": "stdout",
     "output_type": "stream",
     "text": [
      "2 es un numero primo\n",
      "3 es un numero primo\n",
      "5 es un numero primo\n",
      "7 es un numero primo\n",
      "11 es un numero primo\n",
      "13 es un numero primo\n",
      "17 es un numero primo\n",
      "19 es un numero primo\n",
      "23 es un numero primo\n",
      "29 es un numero primo\n"
     ]
    }
   ],
   "source": [
    "for valor in range(2,31):\n",
    "    primo=True\n",
    "    for div in range(2, valor):\n",
    "        if(valor%div==0):\n",
    "            primo=False\n",
    "    if (primo):\n",
    "        print(valor, 'es un numero primo')"
   ]
  },
  {
   "attachments": {},
   "cell_type": "markdown",
   "metadata": {},
   "source": [
    "10) ¿Se puede mejorar el proceso del punto 9? Utilizar las sentencias break y/ó continue para tal fin"
   ]
  },
  {
   "cell_type": "code",
   "execution_count": 45,
   "metadata": {},
   "outputs": [
    {
     "name": "stdout",
     "output_type": "stream",
     "text": [
      "0\n",
      "1\n",
      "2\n",
      "3\n",
      "5\n",
      "7\n",
      "11\n",
      "13\n",
      "17\n",
      "19\n",
      "23\n",
      "29\n"
     ]
    }
   ],
   "source": [
    "n=0\n",
    "primo=True\n",
    "tope_rango=30\n",
    "\n",
    "while(n <tope_rango):\n",
    "    for div in range(2,n):\n",
    "        if(n%div==0):\n",
    "            primo=False\n",
    "            break\n",
    "    if(primo):\n",
    "        print(n)\n",
    "    else:\n",
    "        primo=True\n",
    "    n=n+1"
   ]
  },
  {
   "attachments": {},
   "cell_type": "markdown",
   "metadata": {},
   "source": [
    "11) En los puntos 9 y 10, se diseño un código que encuentra números primos y además se lo optimizó. ¿Es posible saber en qué medida se optimizó?"
   ]
  },
  {
   "cell_type": "code",
   "execution_count": null,
   "metadata": {},
   "outputs": [],
   "source": []
  },
  {
   "attachments": {},
   "cell_type": "markdown",
   "metadata": {},
   "source": [
    "12) Si la cantidad de números que se evalúa es mayor a treinta, esa optimización crece?"
   ]
  },
  {
   "cell_type": "code",
   "execution_count": null,
   "metadata": {},
   "outputs": [],
   "source": []
  },
  {
   "attachments": {},
   "cell_type": "markdown",
   "metadata": {},
   "source": [
    "13) Aplicando continue, armar un ciclo while que solo imprima los valores divisibles por 12, dentro del rango de números de 100 a 300"
   ]
  },
  {
   "cell_type": "code",
   "execution_count": 46,
   "metadata": {},
   "outputs": [
    {
     "name": "stdout",
     "output_type": "stream",
     "text": [
      "108 es divisible por 12\n",
      "120 es divisible por 12\n",
      "132 es divisible por 12\n",
      "144 es divisible por 12\n",
      "156 es divisible por 12\n",
      "168 es divisible por 12\n",
      "180 es divisible por 12\n",
      "192 es divisible por 12\n",
      "204 es divisible por 12\n",
      "216 es divisible por 12\n",
      "228 es divisible por 12\n",
      "240 es divisible por 12\n",
      "252 es divisible por 12\n",
      "264 es divisible por 12\n",
      "276 es divisible por 12\n",
      "288 es divisible por 12\n",
      "300 es divisible por 12\n"
     ]
    }
   ],
   "source": [
    "n=100\n",
    "tope_rango=300\n",
    "\n",
    "while(n<tope_rango):\n",
    "    n=n+1\n",
    "    if(n%12!=0):\n",
    "        continue\n",
    "    print (n, 'es divisible por 12')"
   ]
  },
  {
   "attachments": {},
   "cell_type": "markdown",
   "metadata": {},
   "source": [
    "14) Utilizar la función **input()** que permite hacer ingresos por teclado, para encontrar números primos y dar la opción al usario de buscar el siguiente"
   ]
  },
  {
   "cell_type": "code",
   "execution_count": 1,
   "metadata": {},
   "outputs": [
    {
     "name": "stdout",
     "output_type": "stream",
     "text": [
      "1\n",
      "¿Desea encontrar el siguiente número primo?\n",
      "Se finaliza el proceso\n"
     ]
    }
   ],
   "source": [
    "n = 1\n",
    "sigue = 1\n",
    "primo = True\n",
    "while (sigue == 1):\n",
    "    for div in range(2, n):\n",
    "        if (n % div == 0):\n",
    "            primo = False\n",
    "            break\n",
    "    if (primo):\n",
    "        print(n)\n",
    "        print('¿Desea encontrar el siguiente número primo?')\n",
    "        if (input() != '1'):\n",
    "            print('Se finaliza el proceso')\n",
    "            break\n",
    "    else:\n",
    "        primo = True\n",
    "    n += 1"
   ]
  },
  {
   "cell_type": "code",
   "execution_count": 2,
   "metadata": {},
   "outputs": [
    {
     "name": "stdout",
     "output_type": "stream",
     "text": [
      "1\n",
      "Cual es el siguiente numero primo\n",
      "Finalizado\n"
     ]
    }
   ],
   "source": [
    "n=1\n",
    "sigue=1\n",
    "primo=True\n",
    "\n",
    "while(sigue==1):\n",
    "    for div in range(2,n):\n",
    "        if(n%div==0):\n",
    "            primo=False\n",
    "            break\n",
    "    if(primo):\n",
    "        print(n)\n",
    "        print('Cual es el siguiente numero primo')\n",
    "        if(input() !='1'):\n",
    "            print ('Finalizado')\n",
    "            break\n",
    "    else:\n",
    "        primo=True\n",
    "    n=n+1\n"
   ]
  },
  {
   "attachments": {},
   "cell_type": "markdown",
   "metadata": {},
   "source": [
    "15) Crear un ciclo while que encuentre dentro del rango de 100 a 300 el primer número divisible por 3 y además múltiplo de 6"
   ]
  },
  {
   "cell_type": "code",
   "execution_count": 49,
   "metadata": {},
   "outputs": [
    {
     "name": "stdout",
     "output_type": "stream",
     "text": [
      "no es multiplo de 6\n",
      "no es multiplo de 6\n",
      "el numero 102 es divisible por 3\n",
      "tambien multiplo de 6\n"
     ]
    }
   ],
   "source": [
    "n=100\n",
    "tope=300\n",
    "while(n<tope):\n",
    "    if(n%3==0):\n",
    "        print('el numero',n,'es divisible por 3')\n",
    "        if(n%6==0):\n",
    "            print('tambien multiplo de 6')\n",
    "            break\n",
    "        else:\n",
    "            pass\n",
    "    else:\n",
    "        print('no es multiplo de 6')\n",
    "    n=n+1"
   ]
  }
 ],
 "metadata": {
  "kernelspec": {
   "display_name": "Python 3",
   "language": "python",
   "name": "python3"
  },
  "language_info": {
   "codemirror_mode": {
    "name": "ipython",
    "version": 3
   },
   "file_extension": ".py",
   "mimetype": "text/x-python",
   "name": "python",
   "nbconvert_exporter": "python",
   "pygments_lexer": "ipython3",
   "version": "3.11.2"
  },
  "orig_nbformat": 4
 },
 "nbformat": 4,
 "nbformat_minor": 2
}
